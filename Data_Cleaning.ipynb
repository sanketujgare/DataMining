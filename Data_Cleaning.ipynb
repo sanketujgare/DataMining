{
  "nbformat": 4,
  "nbformat_minor": 0,
  "metadata": {
    "colab": {
      "provenance": []
    },
    "kernelspec": {
      "name": "python3",
      "display_name": "Python 3"
    },
    "language_info": {
      "name": "python"
    }
  },
  "cells": [
    {
      "cell_type": "markdown",
      "source": [
        "Data Cleaning\n",
        "\n",
        "Data cleaning includes processes such as filling in missing values and handling inconsistencies. It detects corrupt data and replaces or modifies it.\n",
        "\n",
        "Missing Values\n",
        "\n",
        "The concept of missing values is important to understand if you want to master the skill of successful management and understanding of data. Let's take a look at the following figure:"
      ],
      "metadata": {
        "id": "O76GeFdFgWW5"
      }
    },
    {
      "cell_type": "markdown",
      "source": [
        "**Removing Missing Data**"
      ],
      "metadata": {
        "id": "aSSZ0EMegv2Z"
      }
    },
    {
      "cell_type": "markdown",
      "source": [
        "***we will be loading the Banking_Marketing.csv dataset into the pandas DataFrame and handling the missing data. ***"
      ],
      "metadata": {
        "id": "xeTEqDqDg33l"
      }
    },
    {
      "cell_type": "code",
      "source": [
        "import pandas as pd\n",
        "\n",
        "dataset = '/content/Banking_Marketing.csv'\n",
        "\n",
        "#reading the data into the dataframe into the object data\n",
        "\n",
        "df = pd.read_csv(dataset, header=0)"
      ],
      "metadata": {
        "id": "n51xjFfOg6h2"
      },
      "execution_count": null,
      "outputs": []
    },
    {
      "cell_type": "code",
      "source": [],
      "metadata": {
        "id": "aAOi2HSnhZF3"
      },
      "execution_count": null,
      "outputs": []
    },
    {
      "cell_type": "markdown",
      "source": [
        "Once you have fetched the dataset, print the datatype of each column. To do so, use the dtypes attribute from the pandas DataFrame:\n",
        "\n",
        "df.dtypes"
      ],
      "metadata": {
        "id": "Pz7w4GD2hbaV"
      }
    },
    {
      "cell_type": "code",
      "source": [
        "df.dtypes"
      ],
      "metadata": {
        "colab": {
          "base_uri": "https://localhost:8080/"
        },
        "id": "m7M-B-NFhdn6",
        "outputId": "7243b38d-fa73-412b-d8ad-b019c608f3c4"
      },
      "execution_count": null,
      "outputs": [
        {
          "output_type": "execute_result",
          "data": {
            "text/plain": [
              "age               float64\n",
              "job                object\n",
              "marital            object\n",
              "education          object\n",
              "default            object\n",
              "housing            object\n",
              "loan               object\n",
              "contact            object\n",
              "month              object\n",
              "day_of_week        object\n",
              "duration          float64\n",
              "campaign            int64\n",
              "pdays               int64\n",
              "previous            int64\n",
              "poutcome           object\n",
              "emp_var_rate      float64\n",
              "cons_price_idx    float64\n",
              "cons_conf_idx     float64\n",
              "euribor3m         float64\n",
              "nr_employed       float64\n",
              "y                   int64\n",
              "dtype: object"
            ]
          },
          "metadata": {},
          "execution_count": 4
        }
      ]
    },
    {
      "cell_type": "markdown",
      "source": [
        "Now we need to find the missing values for each column. In order to do that, we use the isna() function provided by pandas:\n",
        "\n",
        "df.isna().sum()"
      ],
      "metadata": {
        "id": "ZB8x-wgVhqKf"
      }
    },
    {
      "cell_type": "code",
      "source": [
        "df.isna().sum()"
      ],
      "metadata": {
        "colab": {
          "base_uri": "https://localhost:8080/"
        },
        "id": "qCQG3PCahrd9",
        "outputId": "763e1f60-28e0-431f-d92d-82f316c7c547"
      },
      "execution_count": null,
      "outputs": [
        {
          "output_type": "execute_result",
          "data": {
            "text/plain": [
              "age               2\n",
              "job               0\n",
              "marital           0\n",
              "education         0\n",
              "default           0\n",
              "housing           0\n",
              "loan              0\n",
              "contact           6\n",
              "month             0\n",
              "day_of_week       0\n",
              "duration          7\n",
              "campaign          0\n",
              "pdays             0\n",
              "previous          0\n",
              "poutcome          0\n",
              "emp_var_rate      0\n",
              "cons_price_idx    0\n",
              "cons_conf_idx     0\n",
              "euribor3m         0\n",
              "nr_employed       0\n",
              "y                 0\n",
              "dtype: int64"
            ]
          },
          "metadata": {},
          "execution_count": 5
        }
      ]
    },
    {
      "cell_type": "markdown",
      "source": [
        "Once you have figured out all the missing details, we remove all the missing rows from the DataFrame. To do so, we use the dropna() function:\n",
        "\n",
        "#removing Null values\n",
        "\n"
      ],
      "metadata": {
        "id": "H2OcooBuhyct"
      }
    },
    {
      "cell_type": "code",
      "source": [
        "df = df.dropna()"
      ],
      "metadata": {
        "id": "G-PqOavKh1Lt"
      },
      "execution_count": null,
      "outputs": []
    },
    {
      "cell_type": "markdown",
      "source": [
        "To check whether the missing vales are still present, use the isna() function:\n"
      ],
      "metadata": {
        "id": "oB4r3Njuh8HM"
      }
    },
    {
      "cell_type": "code",
      "source": [
        "df.isna().sum()\n"
      ],
      "metadata": {
        "colab": {
          "base_uri": "https://localhost:8080/"
        },
        "id": "nmDwL9Mmh958",
        "outputId": "00aedd16-ee3f-41c4-93a7-579a7b7b0b3c"
      },
      "execution_count": null,
      "outputs": [
        {
          "output_type": "execute_result",
          "data": {
            "text/plain": [
              "age               0\n",
              "job               0\n",
              "marital           0\n",
              "education         0\n",
              "default           0\n",
              "housing           0\n",
              "loan              0\n",
              "contact           0\n",
              "month             0\n",
              "day_of_week       0\n",
              "duration          0\n",
              "campaign          0\n",
              "pdays             0\n",
              "previous          0\n",
              "poutcome          0\n",
              "emp_var_rate      0\n",
              "cons_price_idx    0\n",
              "cons_conf_idx     0\n",
              "euribor3m         0\n",
              "nr_employed       0\n",
              "y                 0\n",
              "dtype: int64"
            ]
          },
          "metadata": {},
          "execution_count": 11
        }
      ]
    },
    {
      "cell_type": "markdown",
      "source": [
        "**second method of dealing with missing data, which uses imputation.**"
      ],
      "metadata": {
        "id": "GtFgsi-ciHpc"
      }
    },
    {
      "cell_type": "markdown",
      "source": [
        "Mean/Median/Mode Imputation\n",
        "\n",
        "In the case of numerical data, we can compute its mean or median and use the result to replace missing values. In the case of the categorical (non-numerical) data, we can compute its mode to replace the missing value. This is known as imputation."
      ],
      "metadata": {
        "id": "MQS4Maqeib5y"
      }
    },
    {
      "cell_type": "markdown",
      "source": [
        "# ** Imputing Missing Data**\n",
        "\n",
        "\n"
      ],
      "metadata": {
        "id": "azKjtJPbidzq"
      }
    },
    {
      "cell_type": "code",
      "source": [
        "import pandas as pd\n",
        "\n",
        "dataset = '/content/Banking_Marketing.csv'\n",
        "\n",
        "df = pd.read_csv(dataset, header=0)"
      ],
      "metadata": {
        "id": "wFoBZfryic_F"
      },
      "execution_count": null,
      "outputs": []
    },
    {
      "cell_type": "markdown",
      "source": [
        "Impute the numerical data of the age column with its mean. To do so, first find the mean of the age column using the mean() function of pandas, and then print it:\n"
      ],
      "metadata": {
        "id": "mcgttivgkDBH"
      }
    },
    {
      "cell_type": "code",
      "source": [
        "\n",
        "mean_age = df.age.mean()\n",
        "\n",
        "print(mean_age)"
      ],
      "metadata": {
        "colab": {
          "base_uri": "https://localhost:8080/"
        },
        "id": "xH5C-BHbkIRG",
        "outputId": "98b943de-9aff-44c6-aa5f-619507f1f7e4"
      },
      "execution_count": null,
      "outputs": [
        {
          "output_type": "stream",
          "name": "stdout",
          "text": [
            "40.023812413525256\n"
          ]
        }
      ]
    },
    {
      "cell_type": "markdown",
      "source": [
        "Once this is done, impute the missing data with its mean using the fillna() function. This can be done with the following code:\n",
        "\n"
      ],
      "metadata": {
        "id": "gxmkw32mkMM6"
      }
    },
    {
      "cell_type": "code",
      "source": [
        "df.age.fillna(mean_age, inplace=True)"
      ],
      "metadata": {
        "id": "D3tUN3NXkOE-"
      },
      "execution_count": null,
      "outputs": []
    },
    {
      "cell_type": "markdown",
      "source": [
        "Now we impute the numerical data of the duration column with its median. To do so, first find the median of the duration column using the median() function of the pandas. Add the following code to do so:\n",
        "\n"
      ],
      "metadata": {
        "id": "RotYys-3kYK2"
      }
    },
    {
      "cell_type": "code",
      "source": [
        "median_duration = df.duration.median()\n",
        "\n",
        "print(median_duration)"
      ],
      "metadata": {
        "colab": {
          "base_uri": "https://localhost:8080/"
        },
        "id": "ZHmkdGWskXW5",
        "outputId": "10941660-682e-4606-a0fa-75cb735ceb4d"
      },
      "execution_count": null,
      "outputs": [
        {
          "output_type": "stream",
          "name": "stdout",
          "text": [
            "180.0\n"
          ]
        }
      ]
    },
    {
      "cell_type": "markdown",
      "source": [
        "Impute the missing data of the duration with its median using the fillna() function.\n"
      ],
      "metadata": {
        "id": "YsHIsZoekh3U"
      }
    },
    {
      "cell_type": "code",
      "source": [
        "\n",
        "df.duration.fillna(median_duration,inplace=True)"
      ],
      "metadata": {
        "id": "wpQWtkkRkfhV"
      },
      "execution_count": null,
      "outputs": []
    },
    {
      "cell_type": "markdown",
      "source": [
        "Impute the categorical data of the contact column with its mode. To do so, first, find the mode of the contact column using the mode() function of pandas. Add the following code to do this:"
      ],
      "metadata": {
        "id": "WsJW4gkNk7uT"
      }
    },
    {
      "cell_type": "code",
      "source": [
        "mode_contact = df.contact.mode()[0]\n",
        "\n",
        "print(mode_contact)"
      ],
      "metadata": {
        "colab": {
          "base_uri": "https://localhost:8080/"
        },
        "id": "D0-pD29Yk8kV",
        "outputId": "9e5de68f-5795-4aac-92ae-3102d7b30e29"
      },
      "execution_count": null,
      "outputs": [
        {
          "output_type": "stream",
          "name": "stdout",
          "text": [
            "cellular\n"
          ]
        }
      ]
    },
    {
      "cell_type": "markdown",
      "source": [
        "Impute the missing data of the contact column with its mode using the fillna() function. Add the following code to do this:"
      ],
      "metadata": {
        "id": "dvCrN-OVlFsy"
      }
    },
    {
      "cell_type": "code",
      "source": [
        "df.contact.fillna(mode_contact,inplace=True)"
      ],
      "metadata": {
        "id": "1lFpWtOylGja"
      },
      "execution_count": null,
      "outputs": []
    },
    {
      "cell_type": "markdown",
      "source": [
        "Outliers\n",
        "\n",
        "Outliers are values that are very large or very small with respect to the distribution of the other data. We can only find outliers in numerical data. Box plots are one good way to find the outliers in a dataset, as you can see in the following figure: **bold text** **bold text**\n"
      ],
      "metadata": {
        "id": "XBuJ1p-ilMiY"
      }
    },
    {
      "cell_type": "markdown",
      "source": [
        "![image.png](data:image/png;base64,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)"
      ],
      "metadata": {
        "id": "rdR63G6AlZu_"
      }
    },
    {
      "cell_type": "code",
      "source": [
        "Let's learn how to find outliers using a simple example. Consider a sample dataset of temperatures from a place at different times:\n",
        "\n",
        "71, 70, 90, 70, 70, 60, 70, 72, 72, 320, 71, 69\n",
        "\n",
        "We can now do the following:\n",
        "\n",
        "    First, we'll sort the data:\n",
        "\n",
        "    60,69, 70, 70, 70, 70, 71, 71, 72, 72, 90, 320\n",
        "    Next, we'll calculate the median (Q2). The median is the middle data after sorting.\n",
        "\n",
        "    Here, the middle terms are 70 and 71 after sorting the list.\n",
        "\n",
        "    The median is (70 + 71) / 2 = 70.5\n",
        "    Then we'll calculate the lower quartile (Q1). Q1 is the middle value (median) of the first half of the dataset.\n",
        "\n",
        "    First half of the data = 60, 69, 70, 70, 70, 70\n",
        "\n",
        "    Points 3 and 4 of the bottom 6 are both equal to 70.\n",
        "\n",
        "    The average is (70 + 70) / 2 = 70\n",
        "\n",
        "    Q1 = 70\n",
        "    Then we calculate the upper quartile (Q3).\n",
        "\n",
        "    Q3 is the middle value (median) of the second half of the dataset.\n",
        "    second half of the dataset.\n",
        "\n",
        "    Second half of the data = 71, 71, 72, 72, 90, 320\n",
        "\n",
        "    Points 3 and 4 of the upper 6 are 72 and 72.\n",
        "\n",
        "    The average is (72 + 72) / 2 = 72\n",
        "\n",
        "    Q3 = 72\n",
        "    Then we find the interquartile range (IQR).\n",
        "\n",
        "    IQR = Q3 – Q1 = 72 – 70\n",
        "\n",
        "    IQR = 2\n",
        "    Next, we find the upper and lower fences.\n",
        "\n",
        "    Lower fence = Q1 – 1.5 (IQR) = 70 – 1.5(2) = 67\n",
        "\n",
        "    Upper fence = Q3 + 1.5 (IQR) = 71.5 + 1.5(2) = 74.5\n",
        "\n",
        "    Boundaries of our fences = 67 and 74.5\n",
        "\n",
        "Any data points lower than the lower fence and greater than the upper fence are outliers. Thus, the outliers from our example are 60, 90 and 320."
      ],
      "metadata": {
        "id": "X3HvTH-CmcKC"
      },
      "execution_count": null,
      "outputs": []
    },
    {
      "cell_type": "code",
      "source": [
        "import pandas as pd\n",
        "\n",
        "import numpy as np\n",
        "\n",
        "%matplotlib inline\n",
        "\n",
        "import seaborn as sbn\n",
        "\n",
        "dataset = '/content/german_credit_data.csv'\n",
        "\n",
        "#reading the data into the dataframe into the object data\n",
        "\n",
        "df = pd.read_csv(dataset, header=0)"
      ],
      "metadata": {
        "id": "SEfBYGcdlPxQ"
      },
      "execution_count": null,
      "outputs": []
    },
    {
      "cell_type": "markdown",
      "source": [
        "This dataset contains an Age column. Let's plot a boxplot of the Age column. To do so, use the boxplot() function from the seaborn library:\n"
      ],
      "metadata": {
        "id": "zvnWOtxemEfy"
      }
    },
    {
      "cell_type": "code",
      "source": [
        "\n",
        "sbn.boxplot(df['Age'])"
      ],
      "metadata": {
        "colab": {
          "base_uri": "https://localhost:8080/",
          "height": 354
        },
        "id": "pLoBB0P1mGTT",
        "outputId": "fdd786d4-dd29-409d-b1d6-7c78466a06df"
      },
      "execution_count": null,
      "outputs": [
        {
          "output_type": "stream",
          "name": "stderr",
          "text": [
            "/usr/local/lib/python3.7/dist-packages/seaborn/_decorators.py:43: FutureWarning: Pass the following variable as a keyword arg: x. From version 0.12, the only valid positional argument will be `data`, and passing other arguments without an explicit keyword will result in an error or misinterpretation.\n",
            "  FutureWarning\n"
          ]
        },
        {
          "output_type": "execute_result",
          "data": {
            "text/plain": [
              "<matplotlib.axes._subplots.AxesSubplot at 0x7fb6a1abffd0>"
            ]
          },
          "metadata": {},
          "execution_count": 20
        },
        {
          "output_type": "display_data",
          "data": {
            "image/png": "[encoded data removed]",
            "text/plain": [
              "<Figure size 432x288 with 1 Axes>"
            ]
          },
          "metadata": {
            "needs_background": "light"
          }
        }
      ]
    },
    {
      "cell_type": "code",
      "source": [
        "Q1 = df[\"Age\"].quantile(0.25)\n",
        "\n",
        "Q3 = df[\"Age\"].quantile(0.75)\n",
        "\n",
        "IQR = Q3 - Q1\n",
        "\n",
        "print(IQR)"
      ],
      "metadata": {
        "colab": {
          "base_uri": "https://localhost:8080/"
        },
        "id": "AWhNUQy5qDgI",
        "outputId": "66ddf431-5bab-4e3d-d9b5-6ba50f004b3d"
      },
      "execution_count": null,
      "outputs": [
        {
          "output_type": "stream",
          "name": "stdout",
          "text": [
            "15.0\n"
          ]
        }
      ]
    },
    {
      "cell_type": "code",
      "source": [
        "Lower_Fence = Q1 - (1.5 * IQR)\n",
        "\n",
        "Upper_Fence = Q3 + (1.5 * IQR)\n",
        "\n",
        "print(Lower_Fence)\n",
        "\n",
        "print(Upper_Fence)"
      ],
      "metadata": {
        "colab": {
          "base_uri": "https://localhost:8080/"
        },
        "id": "SfR-bcK8qG6k",
        "outputId": "0ac414ca-5071-4af1-bb20-aa403ded664b"
      },
      "execution_count": null,
      "outputs": [
        {
          "output_type": "stream",
          "name": "stdout",
          "text": [
            "4.5\n",
            "64.5\n"
          ]
        }
      ]
    },
    {
      "cell_type": "code",
      "source": [
        "df[((df[\"Age\"] < Lower_Fence) |(df[\"Age\"] > Upper_Fence))]"
      ],
      "metadata": {
        "colab": {
          "base_uri": "https://localhost:8080/",
          "height": 852
        },
        "id": "xap5bb8nqLF-",
        "outputId": "1ffd4c9f-bc5d-4309-b240-9cd80326aeb3"
      },
      "execution_count": null,
      "outputs": [
        {
          "output_type": "execute_result",
          "data": {
            "text/html": [
              "\n",
              "  <div id=\"df-02ab860d-3f62-4c3d-b3c1-fb248e3dbd52\">\n",
              "    <div class=\"colab-df-container\">\n",
              "      <div>\n",
              "<style scoped>\n",
              "    .dataframe tbody tr th:only-of-type {\n",
              "        vertical-align: middle;\n",
              "    }\n",
              "\n",
              "    .dataframe tbody tr th {\n",
              "        vertical-align: top;\n",
              "    }\n",
              "\n",
              "    .dataframe thead th {\n",
              "        text-align: right;\n",
              "    }\n",
              "</style>\n",
              "<table border=\"1\" class=\"dataframe\">\n",
              "  <thead>\n",
              "    <tr style=\"text-align: right;\">\n",
              "      <th></th>\n",
              "      <th>Unnamed: 0</th>\n",
              "      <th>Age</th>\n",
              "      <th>Sex</th>\n",
              "      <th>Job</th>\n",
              "      <th>Housing</th>\n",
              "      <th>Saving accounts</th>\n",
              "      <th>Checking account</th>\n",
              "      <th>Credit amount</th>\n",
              "      <th>Duration</th>\n",
              "      <th>Purpose</th>\n",
              "    </tr>\n",
              "  </thead>\n",
              "  <tbody>\n",
              "    <tr>\n",
              "      <th>0</th>\n",
              "      <td>0</td>\n",
              "      <td>67</td>\n",
              "      <td>male</td>\n",
              "      <td>2</td>\n",
              "      <td>own</td>\n",
              "      <td>NaN</td>\n",
              "      <td>little</td>\n",
              "      <td>1169</td>\n",
              "      <td>6</td>\n",
              "      <td>radio/TV</td>\n",
              "    </tr>\n",
              "    <tr>\n",
              "      <th>75</th>\n",
              "      <td>75</td>\n",
              "      <td>66</td>\n",
              "      <td>male</td>\n",
              "      <td>3</td>\n",
              "      <td>free</td>\n",
              "      <td>little</td>\n",
              "      <td>little</td>\n",
              "      <td>1526</td>\n",
              "      <td>12</td>\n",
              "      <td>car</td>\n",
              "    </tr>\n",
              "    <tr>\n",
              "      <th>137</th>\n",
              "      <td>137</td>\n",
              "      <td>66</td>\n",
              "      <td>male</td>\n",
              "      <td>1</td>\n",
              "      <td>own</td>\n",
              "      <td>quite rich</td>\n",
              "      <td>moderate</td>\n",
              "      <td>766</td>\n",
              "      <td>12</td>\n",
              "      <td>radio/TV</td>\n",
              "    </tr>\n",
              "    <tr>\n",
              "      <th>163</th>\n",
              "      <td>163</td>\n",
              "      <td>70</td>\n",
              "      <td>male</td>\n",
              "      <td>3</td>\n",
              "      <td>free</td>\n",
              "      <td>little</td>\n",
              "      <td>moderate</td>\n",
              "      <td>7308</td>\n",
              "      <td>10</td>\n",
              "      <td>car</td>\n",
              "    </tr>\n",
              "    <tr>\n",
              "      <th>179</th>\n",
              "      <td>179</td>\n",
              "      <td>65</td>\n",
              "      <td>male</td>\n",
              "      <td>2</td>\n",
              "      <td>own</td>\n",
              "      <td>little</td>\n",
              "      <td>little</td>\n",
              "      <td>571</td>\n",
              "      <td>21</td>\n",
              "      <td>car</td>\n",
              "    </tr>\n",
              "    <tr>\n",
              "      <th>186</th>\n",
              "      <td>186</td>\n",
              "      <td>74</td>\n",
              "      <td>female</td>\n",
              "      <td>3</td>\n",
              "      <td>free</td>\n",
              "      <td>little</td>\n",
              "      <td>moderate</td>\n",
              "      <td>5129</td>\n",
              "      <td>9</td>\n",
              "      <td>car</td>\n",
              "    </tr>\n",
              "    <tr>\n",
              "      <th>187</th>\n",
              "      <td>187</td>\n",
              "      <td>68</td>\n",
              "      <td>male</td>\n",
              "      <td>0</td>\n",
              "      <td>free</td>\n",
              "      <td>little</td>\n",
              "      <td>moderate</td>\n",
              "      <td>1175</td>\n",
              "      <td>16</td>\n",
              "      <td>car</td>\n",
              "    </tr>\n",
              "    <tr>\n",
              "      <th>213</th>\n",
              "      <td>213</td>\n",
              "      <td>66</td>\n",
              "      <td>male</td>\n",
              "      <td>3</td>\n",
              "      <td>own</td>\n",
              "      <td>little</td>\n",
              "      <td>rich</td>\n",
              "      <td>1908</td>\n",
              "      <td>30</td>\n",
              "      <td>business</td>\n",
              "    </tr>\n",
              "    <tr>\n",
              "      <th>330</th>\n",
              "      <td>330</td>\n",
              "      <td>75</td>\n",
              "      <td>male</td>\n",
              "      <td>3</td>\n",
              "      <td>free</td>\n",
              "      <td>little</td>\n",
              "      <td>little</td>\n",
              "      <td>6615</td>\n",
              "      <td>24</td>\n",
              "      <td>car</td>\n",
              "    </tr>\n",
              "    <tr>\n",
              "      <th>430</th>\n",
              "      <td>430</td>\n",
              "      <td>74</td>\n",
              "      <td>male</td>\n",
              "      <td>1</td>\n",
              "      <td>own</td>\n",
              "      <td>little</td>\n",
              "      <td>NaN</td>\n",
              "      <td>3448</td>\n",
              "      <td>5</td>\n",
              "      <td>business</td>\n",
              "    </tr>\n",
              "    <tr>\n",
              "      <th>438</th>\n",
              "      <td>438</td>\n",
              "      <td>65</td>\n",
              "      <td>male</td>\n",
              "      <td>0</td>\n",
              "      <td>own</td>\n",
              "      <td>little</td>\n",
              "      <td>little</td>\n",
              "      <td>3394</td>\n",
              "      <td>42</td>\n",
              "      <td>repairs</td>\n",
              "    </tr>\n",
              "    <tr>\n",
              "      <th>536</th>\n",
              "      <td>536</td>\n",
              "      <td>75</td>\n",
              "      <td>female</td>\n",
              "      <td>3</td>\n",
              "      <td>own</td>\n",
              "      <td>NaN</td>\n",
              "      <td>little</td>\n",
              "      <td>1374</td>\n",
              "      <td>6</td>\n",
              "      <td>car</td>\n",
              "    </tr>\n",
              "    <tr>\n",
              "      <th>554</th>\n",
              "      <td>554</td>\n",
              "      <td>67</td>\n",
              "      <td>female</td>\n",
              "      <td>3</td>\n",
              "      <td>own</td>\n",
              "      <td>little</td>\n",
              "      <td>moderate</td>\n",
              "      <td>1199</td>\n",
              "      <td>9</td>\n",
              "      <td>education</td>\n",
              "    </tr>\n",
              "    <tr>\n",
              "      <th>606</th>\n",
              "      <td>606</td>\n",
              "      <td>74</td>\n",
              "      <td>male</td>\n",
              "      <td>3</td>\n",
              "      <td>own</td>\n",
              "      <td>little</td>\n",
              "      <td>NaN</td>\n",
              "      <td>4526</td>\n",
              "      <td>24</td>\n",
              "      <td>business</td>\n",
              "    </tr>\n",
              "    <tr>\n",
              "      <th>624</th>\n",
              "      <td>624</td>\n",
              "      <td>65</td>\n",
              "      <td>male</td>\n",
              "      <td>2</td>\n",
              "      <td>free</td>\n",
              "      <td>little</td>\n",
              "      <td>little</td>\n",
              "      <td>2600</td>\n",
              "      <td>18</td>\n",
              "      <td>radio/TV</td>\n",
              "    </tr>\n",
              "    <tr>\n",
              "      <th>723</th>\n",
              "      <td>723</td>\n",
              "      <td>66</td>\n",
              "      <td>female</td>\n",
              "      <td>1</td>\n",
              "      <td>own</td>\n",
              "      <td>quite rich</td>\n",
              "      <td>moderate</td>\n",
              "      <td>790</td>\n",
              "      <td>9</td>\n",
              "      <td>radio/TV</td>\n",
              "    </tr>\n",
              "    <tr>\n",
              "      <th>756</th>\n",
              "      <td>756</td>\n",
              "      <td>74</td>\n",
              "      <td>male</td>\n",
              "      <td>0</td>\n",
              "      <td>own</td>\n",
              "      <td>little</td>\n",
              "      <td>rich</td>\n",
              "      <td>1299</td>\n",
              "      <td>6</td>\n",
              "      <td>car</td>\n",
              "    </tr>\n",
              "    <tr>\n",
              "      <th>774</th>\n",
              "      <td>774</td>\n",
              "      <td>66</td>\n",
              "      <td>male</td>\n",
              "      <td>0</td>\n",
              "      <td>free</td>\n",
              "      <td>quite rich</td>\n",
              "      <td>rich</td>\n",
              "      <td>1480</td>\n",
              "      <td>12</td>\n",
              "      <td>car</td>\n",
              "    </tr>\n",
              "    <tr>\n",
              "      <th>779</th>\n",
              "      <td>779</td>\n",
              "      <td>67</td>\n",
              "      <td>female</td>\n",
              "      <td>2</td>\n",
              "      <td>own</td>\n",
              "      <td>little</td>\n",
              "      <td>moderate</td>\n",
              "      <td>3872</td>\n",
              "      <td>18</td>\n",
              "      <td>repairs</td>\n",
              "    </tr>\n",
              "    <tr>\n",
              "      <th>807</th>\n",
              "      <td>807</td>\n",
              "      <td>65</td>\n",
              "      <td>male</td>\n",
              "      <td>2</td>\n",
              "      <td>own</td>\n",
              "      <td>NaN</td>\n",
              "      <td>NaN</td>\n",
              "      <td>930</td>\n",
              "      <td>12</td>\n",
              "      <td>radio/TV</td>\n",
              "    </tr>\n",
              "    <tr>\n",
              "      <th>846</th>\n",
              "      <td>846</td>\n",
              "      <td>68</td>\n",
              "      <td>male</td>\n",
              "      <td>2</td>\n",
              "      <td>rent</td>\n",
              "      <td>NaN</td>\n",
              "      <td>NaN</td>\n",
              "      <td>6761</td>\n",
              "      <td>18</td>\n",
              "      <td>car</td>\n",
              "    </tr>\n",
              "    <tr>\n",
              "      <th>883</th>\n",
              "      <td>883</td>\n",
              "      <td>65</td>\n",
              "      <td>female</td>\n",
              "      <td>0</td>\n",
              "      <td>own</td>\n",
              "      <td>little</td>\n",
              "      <td>NaN</td>\n",
              "      <td>1098</td>\n",
              "      <td>18</td>\n",
              "      <td>radio/TV</td>\n",
              "    </tr>\n",
              "    <tr>\n",
              "      <th>917</th>\n",
              "      <td>917</td>\n",
              "      <td>68</td>\n",
              "      <td>male</td>\n",
              "      <td>3</td>\n",
              "      <td>own</td>\n",
              "      <td>little</td>\n",
              "      <td>little</td>\n",
              "      <td>14896</td>\n",
              "      <td>6</td>\n",
              "      <td>car</td>\n",
              "    </tr>\n",
              "  </tbody>\n",
              "</table>\n",
              "</div>\n",
              "      <button class=\"colab-df-convert\" onclick=\"convertToInteractive('df-02ab860d-3f62-4c3d-b3c1-fb248e3dbd52')\"\n",
              "              title=\"Convert this dataframe to an interactive table.\"\n",
              "              style=\"display:none;\">\n",
              "        \n",
              "  <svg xmlns=\"http://www.w3.org/2000/svg\" height=\"24px\"viewBox=\"0 0 24 24\"\n",
              "       width=\"24px\">\n",
              "    <path d=\"M0 0h24v24H0V0z\" fill=\"none\"/>\n",
              "    <path d=\"M18.56 5.44l.94 2.06.94-2.06 2.06-.94-2.06-.94-.94-2.06-.94 2.06-2.06.94zm-11 1L8.5 8.5l.94-2.06 2.06-.94-2.06-.94L8.5 2.5l-.94 2.06-2.06.94zm10 10l.94 2.06.94-2.06 2.06-.94-2.06-.94-.94-2.06-.94 2.06-2.06.94z\"/><path d=\"M17.41 7.96l-1.37-1.37c-.4-.4-.92-.59-1.43-.59-.52 0-1.04.2-1.43.59L10.3 9.45l-7.72 7.72c-.78.78-.78 2.05 0 2.83L4 21.41c.39.39.9.59 1.41.59.51 0 1.02-.2 1.41-.59l7.78-7.78 2.81-2.81c.8-.78.8-2.07 0-2.86zM5.41 20L4 18.59l7.72-7.72 1.47 1.35L5.41 20z\"/>\n",
              "  </svg>\n",
              "      </button>\n",
              "      \n",
              "  <style>\n",
              "    .colab-df-container {\n",
              "      display:flex;\n",
              "      flex-wrap:wrap;\n",
              "      gap: 12px;\n",
              "    }\n",
              "\n",
              "    .colab-df-convert {\n",
              "      background-color: #E8F0FE;\n",
              "      border: none;\n",
              "      border-radius: 50%;\n",
              "      cursor: pointer;\n",
              "      display: none;\n",
              "      fill: #1967D2;\n",
              "      height: 32px;\n",
              "      padding: 0 0 0 0;\n",
              "      width: 32px;\n",
              "    }\n",
              "\n",
              "    .colab-df-convert:hover {\n",
              "      background-color: #E2EBFA;\n",
              "      box-shadow: 0px 1px 2px rgba(60, 64, 67, 0.3), 0px 1px 3px 1px rgba(60, 64, 67, 0.15);\n",
              "      fill: #174EA6;\n",
              "    }\n",
              "\n",
              "    [theme=dark] .colab-df-convert {\n",
              "      background-color: #3B4455;\n",
              "      fill: #D2E3FC;\n",
              "    }\n",
              "\n",
              "    [theme=dark] .colab-df-convert:hover {\n",
              "      background-color: #434B5C;\n",
              "      box-shadow: 0px 1px 3px 1px rgba(0, 0, 0, 0.15);\n",
              "      filter: drop-shadow(0px 1px 2px rgba(0, 0, 0, 0.3));\n",
              "      fill: #FFFFFF;\n",
              "    }\n",
              "  </style>\n",
              "\n",
              "      <script>\n",
              "        const buttonEl =\n",
              "          document.querySelector('#df-02ab860d-3f62-4c3d-b3c1-fb248e3dbd52 button.colab-df-convert');\n",
              "        buttonEl.style.display =\n",
              "          google.colab.kernel.accessAllowed ? 'block' : 'none';\n",
              "\n",
              "        async function convertToInteractive(key) {\n",
              "          const element = document.querySelector('#df-02ab860d-3f62-4c3d-b3c1-fb248e3dbd52');\n",
              "          const dataTable =\n",
              "            await google.colab.kernel.invokeFunction('convertToInteractive',\n",
              "                                                     [key], {});\n",
              "          if (!dataTable) return;\n",
              "\n",
              "          const docLinkHtml = 'Like what you see? Visit the ' +\n",
              "            '<a target=\"_blank\" href=https://colab.research.google.com/notebooks/data_table.ipynb>data table notebook</a>'\n",
              "            + ' to learn more about interactive tables.';\n",
              "          element.innerHTML = '';\n",
              "          dataTable['output_type'] = 'display_data';\n",
              "          await google.colab.output.renderOutput(dataTable, element);\n",
              "          const docLink = document.createElement('div');\n",
              "          docLink.innerHTML = docLinkHtml;\n",
              "          element.appendChild(docLink);\n",
              "        }\n",
              "      </script>\n",
              "    </div>\n",
              "  </div>\n",
              "  "
            ],
            "text/plain": [
              "     Unnamed: 0  Age     Sex  ...  Credit amount Duration    Purpose\n",
              "0             0   67    male  ...           1169        6   radio/TV\n",
              "75           75   66    male  ...           1526       12        car\n",
              "137         137   66    male  ...            766       12   radio/TV\n",
              "163         163   70    male  ...           7308       10        car\n",
              "179         179   65    male  ...            571       21        car\n",
              "186         186   74  female  ...           5129        9        car\n",
              "187         187   68    male  ...           1175       16        car\n",
              "213         213   66    male  ...           1908       30   business\n",
              "330         330   75    male  ...           6615       24        car\n",
              "430         430   74    male  ...           3448        5   business\n",
              "438         438   65    male  ...           3394       42    repairs\n",
              "536         536   75  female  ...           1374        6        car\n",
              "554         554   67  female  ...           1199        9  education\n",
              "606         606   74    male  ...           4526       24   business\n",
              "624         624   65    male  ...           2600       18   radio/TV\n",
              "723         723   66  female  ...            790        9   radio/TV\n",
              "756         756   74    male  ...           1299        6        car\n",
              "774         774   66    male  ...           1480       12        car\n",
              "779         779   67  female  ...           3872       18    repairs\n",
              "807         807   65    male  ...            930       12   radio/TV\n",
              "846         846   68    male  ...           6761       18        car\n",
              "883         883   65  female  ...           1098       18   radio/TV\n",
              "917         917   68    male  ...          14896        6        car\n",
              "\n",
              "[23 rows x 10 columns]"
            ]
          },
          "metadata": {},
          "execution_count": 24
        }
      ]
    },
    {
      "cell_type": "code",
      "source": [
        "df = df[~((df [\"Age\"] < Lower_Fence) |(df[\"Age\"] > Upper_Fence))]\n",
        "\n",
        "df"
      ],
      "metadata": {
        "colab": {
          "base_uri": "https://localhost:8080/",
          "height": 505
        },
        "id": "1y3w6dcTqOug",
        "outputId": "a47ae098-5d9b-4800-f7bc-af2b591dd775"
      },
      "execution_count": null,
      "outputs": [
        {
          "output_type": "execute_result",
          "data": {
            "text/html": [
              "\n",
              "  <div id=\"df-af6cad35-e488-46b2-9768-968eefccd807\">\n",
              "    <div class=\"colab-df-container\">\n",
              "      <div>\n",
              "<style scoped>\n",
              "    .dataframe tbody tr th:only-of-type {\n",
              "        vertical-align: middle;\n",
              "    }\n",
              "\n",
              "    .dataframe tbody tr th {\n",
              "        vertical-align: top;\n",
              "    }\n",
              "\n",
              "    .dataframe thead th {\n",
              "        text-align: right;\n",
              "    }\n",
              "</style>\n",
              "<table border=\"1\" class=\"dataframe\">\n",
              "  <thead>\n",
              "    <tr style=\"text-align: right;\">\n",
              "      <th></th>\n",
              "      <th>Unnamed: 0</th>\n",
              "      <th>Age</th>\n",
              "      <th>Sex</th>\n",
              "      <th>Job</th>\n",
              "      <th>Housing</th>\n",
              "      <th>Saving accounts</th>\n",
              "      <th>Checking account</th>\n",
              "      <th>Credit amount</th>\n",
              "      <th>Duration</th>\n",
              "      <th>Purpose</th>\n",
              "    </tr>\n",
              "  </thead>\n",
              "  <tbody>\n",
              "    <tr>\n",
              "      <th>1</th>\n",
              "      <td>1</td>\n",
              "      <td>22</td>\n",
              "      <td>female</td>\n",
              "      <td>2</td>\n",
              "      <td>own</td>\n",
              "      <td>little</td>\n",
              "      <td>moderate</td>\n",
              "      <td>5951</td>\n",
              "      <td>48</td>\n",
              "      <td>radio/TV</td>\n",
              "    </tr>\n",
              "    <tr>\n",
              "      <th>2</th>\n",
              "      <td>2</td>\n",
              "      <td>49</td>\n",
              "      <td>male</td>\n",
              "      <td>1</td>\n",
              "      <td>own</td>\n",
              "      <td>little</td>\n",
              "      <td>NaN</td>\n",
              "      <td>2096</td>\n",
              "      <td>12</td>\n",
              "      <td>education</td>\n",
              "    </tr>\n",
              "    <tr>\n",
              "      <th>3</th>\n",
              "      <td>3</td>\n",
              "      <td>45</td>\n",
              "      <td>male</td>\n",
              "      <td>2</td>\n",
              "      <td>free</td>\n",
              "      <td>little</td>\n",
              "      <td>little</td>\n",
              "      <td>7882</td>\n",
              "      <td>42</td>\n",
              "      <td>furniture/equipment</td>\n",
              "    </tr>\n",
              "    <tr>\n",
              "      <th>4</th>\n",
              "      <td>4</td>\n",
              "      <td>53</td>\n",
              "      <td>male</td>\n",
              "      <td>2</td>\n",
              "      <td>free</td>\n",
              "      <td>little</td>\n",
              "      <td>little</td>\n",
              "      <td>4870</td>\n",
              "      <td>24</td>\n",
              "      <td>car</td>\n",
              "    </tr>\n",
              "    <tr>\n",
              "      <th>5</th>\n",
              "      <td>5</td>\n",
              "      <td>35</td>\n",
              "      <td>male</td>\n",
              "      <td>1</td>\n",
              "      <td>free</td>\n",
              "      <td>NaN</td>\n",
              "      <td>NaN</td>\n",
              "      <td>9055</td>\n",
              "      <td>36</td>\n",
              "      <td>education</td>\n",
              "    </tr>\n",
              "    <tr>\n",
              "      <th>...</th>\n",
              "      <td>...</td>\n",
              "      <td>...</td>\n",
              "      <td>...</td>\n",
              "      <td>...</td>\n",
              "      <td>...</td>\n",
              "      <td>...</td>\n",
              "      <td>...</td>\n",
              "      <td>...</td>\n",
              "      <td>...</td>\n",
              "      <td>...</td>\n",
              "    </tr>\n",
              "    <tr>\n",
              "      <th>995</th>\n",
              "      <td>995</td>\n",
              "      <td>31</td>\n",
              "      <td>female</td>\n",
              "      <td>1</td>\n",
              "      <td>own</td>\n",
              "      <td>little</td>\n",
              "      <td>NaN</td>\n",
              "      <td>1736</td>\n",
              "      <td>12</td>\n",
              "      <td>furniture/equipment</td>\n",
              "    </tr>\n",
              "    <tr>\n",
              "      <th>996</th>\n",
              "      <td>996</td>\n",
              "      <td>40</td>\n",
              "      <td>male</td>\n",
              "      <td>3</td>\n",
              "      <td>own</td>\n",
              "      <td>little</td>\n",
              "      <td>little</td>\n",
              "      <td>3857</td>\n",
              "      <td>30</td>\n",
              "      <td>car</td>\n",
              "    </tr>\n",
              "    <tr>\n",
              "      <th>997</th>\n",
              "      <td>997</td>\n",
              "      <td>38</td>\n",
              "      <td>male</td>\n",
              "      <td>2</td>\n",
              "      <td>own</td>\n",
              "      <td>little</td>\n",
              "      <td>NaN</td>\n",
              "      <td>804</td>\n",
              "      <td>12</td>\n",
              "      <td>radio/TV</td>\n",
              "    </tr>\n",
              "    <tr>\n",
              "      <th>998</th>\n",
              "      <td>998</td>\n",
              "      <td>23</td>\n",
              "      <td>male</td>\n",
              "      <td>2</td>\n",
              "      <td>free</td>\n",
              "      <td>little</td>\n",
              "      <td>little</td>\n",
              "      <td>1845</td>\n",
              "      <td>45</td>\n",
              "      <td>radio/TV</td>\n",
              "    </tr>\n",
              "    <tr>\n",
              "      <th>999</th>\n",
              "      <td>999</td>\n",
              "      <td>27</td>\n",
              "      <td>male</td>\n",
              "      <td>2</td>\n",
              "      <td>own</td>\n",
              "      <td>moderate</td>\n",
              "      <td>moderate</td>\n",
              "      <td>4576</td>\n",
              "      <td>45</td>\n",
              "      <td>car</td>\n",
              "    </tr>\n",
              "  </tbody>\n",
              "</table>\n",
              "<p>977 rows × 10 columns</p>\n",
              "</div>\n",
              "      <button class=\"colab-df-convert\" onclick=\"convertToInteractive('df-af6cad35-e488-46b2-9768-968eefccd807')\"\n",
              "              title=\"Convert this dataframe to an interactive table.\"\n",
              "              style=\"display:none;\">\n",
              "        \n",
              "  <svg xmlns=\"http://www.w3.org/2000/svg\" height=\"24px\"viewBox=\"0 0 24 24\"\n",
              "       width=\"24px\">\n",
              "    <path d=\"M0 0h24v24H0V0z\" fill=\"none\"/>\n",
              "    <path d=\"M18.56 5.44l.94 2.06.94-2.06 2.06-.94-2.06-.94-.94-2.06-.94 2.06-2.06.94zm-11 1L8.5 8.5l.94-2.06 2.06-.94-2.06-.94L8.5 2.5l-.94 2.06-2.06.94zm10 10l.94 2.06.94-2.06 2.06-.94-2.06-.94-.94-2.06-.94 2.06-2.06.94z\"/><path d=\"M17.41 7.96l-1.37-1.37c-.4-.4-.92-.59-1.43-.59-.52 0-1.04.2-1.43.59L10.3 9.45l-7.72 7.72c-.78.78-.78 2.05 0 2.83L4 21.41c.39.39.9.59 1.41.59.51 0 1.02-.2 1.41-.59l7.78-7.78 2.81-2.81c.8-.78.8-2.07 0-2.86zM5.41 20L4 18.59l7.72-7.72 1.47 1.35L5.41 20z\"/>\n",
              "  </svg>\n",
              "      </button>\n",
              "      \n",
              "  <style>\n",
              "    .colab-df-container {\n",
              "      display:flex;\n",
              "      flex-wrap:wrap;\n",
              "      gap: 12px;\n",
              "    }\n",
              "\n",
              "    .colab-df-convert {\n",
              "      background-color: #E8F0FE;\n",
              "      border: none;\n",
              "      border-radius: 50%;\n",
              "      cursor: pointer;\n",
              "      display: none;\n",
              "      fill: #1967D2;\n",
              "      height: 32px;\n",
              "      padding: 0 0 0 0;\n",
              "      width: 32px;\n",
              "    }\n",
              "\n",
              "    .colab-df-convert:hover {\n",
              "      background-color: #E2EBFA;\n",
              "      box-shadow: 0px 1px 2px rgba(60, 64, 67, 0.3), 0px 1px 3px 1px rgba(60, 64, 67, 0.15);\n",
              "      fill: #174EA6;\n",
              "    }\n",
              "\n",
              "    [theme=dark] .colab-df-convert {\n",
              "      background-color: #3B4455;\n",
              "      fill: #D2E3FC;\n",
              "    }\n",
              "\n",
              "    [theme=dark] .colab-df-convert:hover {\n",
              "      background-color: #434B5C;\n",
              "      box-shadow: 0px 1px 3px 1px rgba(0, 0, 0, 0.15);\n",
              "      filter: drop-shadow(0px 1px 2px rgba(0, 0, 0, 0.3));\n",
              "      fill: #FFFFFF;\n",
              "    }\n",
              "  </style>\n",
              "\n",
              "      <script>\n",
              "        const buttonEl =\n",
              "          document.querySelector('#df-af6cad35-e488-46b2-9768-968eefccd807 button.colab-df-convert');\n",
              "        buttonEl.style.display =\n",
              "          google.colab.kernel.accessAllowed ? 'block' : 'none';\n",
              "\n",
              "        async function convertToInteractive(key) {\n",
              "          const element = document.querySelector('#df-af6cad35-e488-46b2-9768-968eefccd807');\n",
              "          const dataTable =\n",
              "            await google.colab.kernel.invokeFunction('convertToInteractive',\n",
              "                                                     [key], {});\n",
              "          if (!dataTable) return;\n",
              "\n",
              "          const docLinkHtml = 'Like what you see? Visit the ' +\n",
              "            '<a target=\"_blank\" href=https://colab.research.google.com/notebooks/data_table.ipynb>data table notebook</a>'\n",
              "            + ' to learn more about interactive tables.';\n",
              "          element.innerHTML = '';\n",
              "          dataTable['output_type'] = 'display_data';\n",
              "          await google.colab.output.renderOutput(dataTable, element);\n",
              "          const docLink = document.createElement('div');\n",
              "          docLink.innerHTML = docLinkHtml;\n",
              "          element.appendChild(docLink);\n",
              "        }\n",
              "      </script>\n",
              "    </div>\n",
              "  </div>\n",
              "  "
            ],
            "text/plain": [
              "     Unnamed: 0  Age     Sex  ...  Credit amount Duration              Purpose\n",
              "1             1   22  female  ...           5951       48             radio/TV\n",
              "2             2   49    male  ...           2096       12            education\n",
              "3             3   45    male  ...           7882       42  furniture/equipment\n",
              "4             4   53    male  ...           4870       24                  car\n",
              "5             5   35    male  ...           9055       36            education\n",
              "..          ...  ...     ...  ...            ...      ...                  ...\n",
              "995         995   31  female  ...           1736       12  furniture/equipment\n",
              "996         996   40    male  ...           3857       30                  car\n",
              "997         997   38    male  ...            804       12             radio/TV\n",
              "998         998   23    male  ...           1845       45             radio/TV\n",
              "999         999   27    male  ...           4576       45                  car\n",
              "\n",
              "[977 rows x 10 columns]"
            ]
          },
          "metadata": {},
          "execution_count": 25
        }
      ]
    }
  ]
}